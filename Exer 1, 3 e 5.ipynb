{
 "cells": [
  {
   "cell_type": "code",
   "execution_count": 17,
   "id": "a3390354",
   "metadata": {},
   "outputs": [
    {
     "name": "stdout",
     "output_type": "stream",
     "text": [
      "Nome: Daniel Moraes Leite   RA: 1050292021004   6º Semestre de Redes de computadores\n",
      "Nome: Vitor Aparecido Rampazzo Martins.   RA: 1050292021032  6º Semestre de Redes de computadores\n",
      "Digite a nota da o 1° prova: 8\n",
      "Digite a nota da o 2° prova: 5\n",
      "Digite a nota da o 3° prova: 7\n",
      "A média aritmetica desses números é:  6.666666666666667\n"
     ]
    }
   ],
   "source": [
    "\"\"\"Exercício Fix1\n",
    "Faça  um  algoritmo com  três  variáveis  numéricas  (tipo int)\n",
    "que  realize  a  média  aritmética da multiplicação desses 3 valores.\n",
    " Mostre os resultados na tela. Os mesmos devem ser solicitados ao\n",
    "usuário, digite os valores via teclado.\"\"\"\n",
    "print('Nome: Daniel Moraes Leite   RA: 1050292021004   6º Semestre de Redes de computadores')\n",
    "print('Nome: Vitor Aparecido Rampazzo Martins.   RA: 1050292021032  6º Semestre de Redes de computadores')\n",
    "x=int(input('Digite a nota da o 1° prova: '))\n",
    "y=int(input('Digite a nota da o 2° prova: '))\n",
    "z=int(input('Digite a nota da o 3° prova: '))\n",
    "ma=(x+y+z)/3\n",
    "print('A média aritmetica desses números é: ', ma)"
   ]
  },
  {
   "cell_type": "code",
   "execution_count": null,
   "id": "5171a9da",
   "metadata": {},
   "outputs": [],
   "source": []
  },
  {
   "cell_type": "code",
   "execution_count": 16,
   "id": "e851e407",
   "metadata": {},
   "outputs": [
    {
     "name": "stdout",
     "output_type": "stream",
     "text": [
      "Nome: Daniel Moraes Leite   RA: 1050292021004   6º Semestre de Redes de computadores\n",
      "Nome: Vitor Aparecido Rampazzo Martins.   RA: 1050292021032  6º Semestre de Redes de computadores\n",
      "Valor do produto A:300\n",
      "Valor do produto B:200\n",
      "Valor do produto C:100\n",
      "O valor da compra na loja A é  240.0  e o valor do desconto foi de  60.0\n",
      "O valor da compra na loja B é  170.0  e o valor do desconto foi de  30.0\n",
      "O valor da compra na loja B é  85.0  e o valor do desconto foi de  15.0\n"
     ]
    }
   ],
   "source": [
    "\"\"\"Exercício Fix3\n",
    "Faça um algoritmo que mostre os descontos concedidos pela loja ABC em suas mercadorias.\n",
    "Em compras acima de 300,00 forneça 20% de desconto, para 200,00 desconto de 15% e acima\n",
    "de 100,00 o desconto será de 10%. Atribua valores as variáveis compra1, compra2 e compra3.\n",
    "Mostre na tela o valor total e o valor com o devido desconto. Os mesmos devem ser solicitados\n",
    "ao usuário, digite os valores via teclado.\"\"\"\n",
    "print('Nome: Daniel Moraes Leite   RA: 1050292021004   6º Semestre de Redes de computadores')\n",
    "print('Nome: Vitor Aparecido Rampazzo Martins.   RA: 1050292021032  6º Semestre de Redes de computadores')\n",
    "a=float(input('Valor do produto A:'))\n",
    "if a >= 300:\n",
    "    d1 = (a*20)/100\n",
    "    a=a-d1\n",
    "b=float(input('Valor do produto B:'))\n",
    "if b >= 200:\n",
    "    d2=(b*15)/100\n",
    "    b=b-d2 \n",
    "c=float(input('Valor do produto C:'))\n",
    "if c >= 100:\n",
    "    d3=(c*15)/100\n",
    "    c=c-d3 \n",
    "print('O valor da compra na loja A é ',a ,' e o valor do desconto foi de ',d1)\n",
    "print('O valor da compra na loja B é ',b ,' e o valor do desconto foi de ',d2)\n",
    "print('O valor da compra na loja B é ',c ,' e o valor do desconto foi de ',d3)"
   ]
  },
  {
   "cell_type": "code",
   "execution_count": 15,
   "id": "01f3d7a4",
   "metadata": {},
   "outputs": [
    {
     "name": "stdout",
     "output_type": "stream",
     "text": [
      "Nome: Daniel Moraes Leite   RA: 1050292021004   6º Semestre de Redes de computadores\n",
      "Nome: Vitor Aparecido Rampazzo Martins.   RA: 1050292021032  6º Semestre de Redes de computadores\n",
      "Digite o valor da váriavel X:7\n",
      "Digite o valor da váriavel Y:5\n",
      "Soma 7 + 5 = 12\n",
      "Subtração 7 - 5 = 2\n",
      "Mutiplicação 7 * 5 = 35\n",
      "Divisão 7 / 5 = 1.4\n"
     ]
    }
   ],
   "source": [
    "\"\"\"Exercício Fix4\n",
    "Faça um algoritmo com duas variáveis numéricas (tipo int) que realize as 4 operações básicas\n",
    "(soma, subtração, multiplicação e divisão), mostre os resultados na tela. Os mesmos devem ser\n",
    "solicitados ao usuário, digite os valores via teclado\"\"\"\n",
    "print('Nome: Daniel Moraes Leite   RA: 1050292021004   6º Semestre de Redes de computadores')\n",
    "print('Nome: Vitor Aparecido Rampazzo Martins.   RA: 1050292021032  6º Semestre de Redes de computadores')\n",
    "d=int(input('Digite o valor da váriavel X:' ))\n",
    "e=int(input('Digite o valor da váriavel Y:' ))\n",
    "s=d+e\n",
    "su=d-e\n",
    "m=d*e\n",
    "di=d/e\n",
    "print('Soma',d,'+',e,'=',s)\n",
    "print('Subtração',d,'-',e,'=',su)\n",
    "print('Mutiplicação',d,'*',e,'=',m)\n",
    "print('Divisão',d,'/',e,'=',di)"
   ]
  },
  {
   "cell_type": "code",
   "execution_count": 14,
   "id": "def45c7d",
   "metadata": {},
   "outputs": [
    {
     "name": "stdout",
     "output_type": "stream",
     "text": [
      "Nome: Daniel Moraes Leite   RA: 1050292021004   6º Semestre de Redes de computadores\n",
      "Nome: Vitor Aparecido Rampazzo Martins.   RA: 1050292021032  6º Semestre de Redes de computadores\n",
      "Digite o seu sexo (h ou m):h\n",
      "Digite a sua altura:1.89\n",
      "Seu peso ideal é:  79.40299999999999\n"
     ]
    }
   ],
   "source": [
    "\"\"\"Exercício Fix5\n",
    "Tendo como dado de entrada a altura (h) de uma pessoa, construa um algoritmo que calcule seu peso\n",
    "(p) ideal, utilizando as seguintes fórmulas:\n",
    "Para homens: (72.7*h) - 58\n",
    "Para mulheres: (62.1*h) - 44.7\"\"\"\n",
    "print('Nome: Daniel Moraes Leite   RA: 1050292021004   6º Semestre de Redes de computadores')\n",
    "print('Nome: Vitor Aparecido Rampazzo Martins.   RA: 1050292021032  6º Semestre de Redes de computadores')\n",
    "s=input('Digite o seu sexo (h ou m):')\n",
    "if s=='m' or s=='h':    \n",
    "    ha=float(input('Digite a sua altura:'))\n",
    "    if s == 'h':\n",
    "        p=(72.7*ha)-58\n",
    "        print('Seu peso ideal é: ', p)\n",
    "    else:\n",
    "        p=(62.1*ha)-44.7\n",
    "        print('Seu peso ideal é: ',p)\n",
    "else:\n",
    "    print('Caractere invalido')"
   ]
  },
  {
   "cell_type": "code",
   "execution_count": 13,
   "id": "33f13e5c",
   "metadata": {},
   "outputs": [
    {
     "name": "stdout",
     "output_type": "stream",
     "text": [
      "Nome: Daniel Moraes Leite   RA: 1050292021004   6º Semestre de Redes de computadores\n",
      "Nome: Vitor Aparecido Rampazzo Martins.   RA: 1050292021032  6º Semestre de Redes de computadores\n",
      "Informe a quantidade em m² a ser pintada: 100\n",
      "São necessários 17 litros\n",
      "Você precisará de 1 latas, que custarão R$80\n",
      "Você precisará de 6 galões, que custarão R$175\n"
     ]
    }
   ],
   "source": [
    "\"\"\"Exercício Fix6\n",
    "Faça um Programa para uma loja de tintas. O programa deverá pedir o tamanho em metros quadrados\n",
    "da área a ser pintada. Considere que a cobertura da tinta é de 1 litro para cada 6 metros quadrados e\n",
    "que a tinta é vendida em latas de 18 litros, que custam R$ 80,00 ou em galões de 3,6 litros, que custam\n",
    "R$ 35,00.\n",
    "Informe ao usuário as quantidades de tinta a serem compradas e os respectivos preços em 3 situações:\n",
    "a) comprar apenas latas de 18 litros;\n",
    "b) comprar apenas galões de 3,6 litros;\n",
    "c) misturar latas e galões, de forma que o preço seja o menor. Acrescente 10% de folga e sempre\n",
    "arredonde os valores para cima, isto é, considere latas cheias.\"\"\"\n",
    "print('Nome: Daniel Moraes Leite   RA: 1050292021004   6º Semestre de Redes de computadores')\n",
    "print('Nome: Vitor Aparecido Rampazzo Martins.   RA: 1050292021032  6º Semestre de Redes de computadores')\n",
    "import math\n",
    "x=float(input('Informe a quantidade em m² a ser pintada: '))\n",
    "p=math.ceil(x/6)\n",
    "l=18\n",
    "g=3.6\n",
    "l2=80.00\n",
    "g2=35.00\n",
    "a=0\n",
    "b=0\n",
    "q=0\n",
    "j=0\n",
    "c=0\n",
    "c2=0\n",
    "q2=0\n",
    "print(f'São necessários {p} litros')\n",
    "if p>l or p>g:\n",
    "    while a<=p:\n",
    "        a=a+18\n",
    "        q=q+1\n",
    "        j=j+80\n",
    "    print(f'Você precisará de {q} latas, que custarão R${j}')\n",
    "    while b<=p:\n",
    "        b=b+3.6\n",
    "        q=q+1\n",
    "        c=c+35\n",
    "    print(f'Você precisará de {q} galões, que custarão R${c}')\n",
    "else:\n",
    "    print(f'O valor a ser pago será R${l} pela lata e R${g} pelo galão, para pintar {x}m²')   \n",
    "a1=0\n",
    "b1=0\n",
    "q1=0\n",
    "j1=0\n",
    "while a+b <= p:\n",
    "    a1=a1+18\n",
    "    q1=q1+1\n",
    "    j1=j1+80\n",
    "    b1=b1+3.6\n",
    "    q2=q2+1\n",
    "    c2=c2+35\n",
    "    c3=c+c2\n",
    "    print('Você precisará de ',q2,' galões e ',q1,' latas, que custarão R$',c3)"
   ]
  }
 ],
 "metadata": {
  "kernelspec": {
   "display_name": "Python 3 (ipykernel)",
   "language": "python",
   "name": "python3"
  },
  "language_info": {
   "codemirror_mode": {
    "name": "ipython",
    "version": 3
   },
   "file_extension": ".py",
   "mimetype": "text/x-python",
   "name": "python",
   "nbconvert_exporter": "python",
   "pygments_lexer": "ipython3",
   "version": "3.9.12"
  }
 },
 "nbformat": 4,
 "nbformat_minor": 5
}
